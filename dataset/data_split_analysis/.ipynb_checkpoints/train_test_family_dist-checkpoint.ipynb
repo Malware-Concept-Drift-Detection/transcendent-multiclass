{
 "cells": [
  {
   "cell_type": "code",
   "execution_count": 1,
   "id": "0f9554fd-7790-46a4-bdf5-a1b4c5c40e5d",
   "metadata": {},
   "outputs": [],
   "source": [
    "import pandas as pd\n",
    "import pickle\n",
    "import matplotlib.pyplot as plt\n",
    "import seaborn as sns\n",
    "import numpy as np\n",
    "from functools import partial\n",
    "from multiprocessing import Pool\n",
    "import sys"
   ]
  },
  {
   "cell_type": "code",
   "execution_count": 2,
   "id": "9da60c36-e5f9-4e9e-b1c4-c43fd0e87651",
   "metadata": {},
   "outputs": [],
   "source": [
    "notebooks_rel_path = \"../../notebooks/\""
   ]
  },
  {
   "cell_type": "code",
   "execution_count": 3,
   "id": "46a7614f-183d-4f7f-bb9c-60b6fe593280",
   "metadata": {},
   "outputs": [],
   "source": [
    "sys.path.append('/home/luca/ml-malware-concept-drift/')\n",
    "from src.notebooks.clustering.utils import *\n",
    "from src.dataset.malware_dataset import MalwareDataset\n",
    "\n",
    "malware_dataset = MalwareDataset(split=pd.Timestamp(\"2021-09-03 13:47:49\"),\n",
    "                                 truncated_fam_path=notebooks_rel_path + \"truncated_families_analysis/data/truncated_samples_per_family.csv\",\n",
    "                                 truncated_threshold=7)"
   ]
  },
  {
   "cell_type": "code",
   "execution_count": 4,
   "id": "80591286-ee01-4350-81ce-7233db26bebe",
   "metadata": {},
   "outputs": [],
   "source": [
    "with open(notebooks_rel_path + \"normalized_dataset.pickle\", \"rb\", buffering=2 ** 24) as f:\n",
    "    X = pickle.load(f)"
   ]
  },
  {
   "cell_type": "code",
   "execution_count": 5,
   "id": "c8dcb9c8-5851-449d-9727-954cfd34f038",
   "metadata": {},
   "outputs": [],
   "source": [
    "X_train = np.array(X.loc[malware_dataset.training_dataset[\"sha256\"]])\n",
    "X_test = np.array(X.loc[malware_dataset.testing_dataset[\"sha256\"]])"
   ]
  },
  {
   "cell_type": "code",
   "execution_count": 6,
   "id": "a025ef92-828e-41c1-bde3-7a819fa9ef50",
   "metadata": {},
   "outputs": [],
   "source": [
    "train_families_df = pd.DataFrame({\"family\": list(malware_dataset.training_dataset[\"family\"])})\n",
    "test_families_df = pd.DataFrame({\"family\": list(malware_dataset.testing_dataset[\"family\"])})"
   ]
  },
  {
   "cell_type": "code",
   "execution_count": 7,
   "id": "52994cad-4dcc-4c56-ac23-f5160366ffd6",
   "metadata": {},
   "outputs": [],
   "source": [
    "train_families_df = train_families_df[\"family\"].value_counts().reset_index()\n",
    "train_families_df[\"split\"] = \"train\"\n",
    "train_families_df = train_families_df.sort_values(by=\"count\", ascending=False)\n",
    "\n",
    "test_families_df = test_families_df[\"family\"].value_counts().reset_index()\n",
    "test_families_df[\"split\"] = \"test\"\n",
    "test_families_df = test_families_df.sort_values(by=\"count\", ascending=False)"
   ]
  },
  {
   "cell_type": "code",
   "execution_count": 8,
   "id": "4a12d4d8-6e3d-492a-ad6f-3c5befa3753a",
   "metadata": {},
   "outputs": [],
   "source": [
    "combined_df = pd.concat([train_families_df, test_families_df], ignore_index=True)"
   ]
  },
  {
   "cell_type": "code",
   "execution_count": 9,
   "id": "16b8a4c5-0907-4399-b064-6c6069d7b571",
   "metadata": {},
   "outputs": [
    {
     "data": {
      "image/png": "[encoded data removed]",
      "text/plain": [
       "<Figure size 1000x700 with 1 Axes>"
      ]
     },
     "metadata": {},
     "output_type": "display_data"
    }
   ],
   "source": [
    "plt.figure(figsize=(10, 7))\n",
    "plt.title(\"Train/Test family distribution\")\n",
    "sns.barplot(data=combined_df, x=\"family\", y=\"count\", hue=\"split\", errorbar=None)\n",
    "plt.xticks([]);"
   ]
  },
  {
   "cell_type": "code",
   "execution_count": 10,
   "id": "6c5108a6-45d3-44a8-b3a8-b172b9641061",
   "metadata": {},
   "outputs": [],
   "source": [
    "merge_df = pd.merge(left=train_families_df, right=test_families_df, on=\"family\", how=\"outer\")"
   ]
  },
  {
   "cell_type": "code",
   "execution_count": 11,
   "id": "11c2ecb5-141e-490a-8bc2-54fe868ac76d",
   "metadata": {},
   "outputs": [
    {
     "data": {
      "text/html": [
       "<div>\n",
       "<style scoped>\n",
       "    .dataframe tbody tr th:only-of-type {\n",
       "        vertical-align: middle;\n",
       "    }\n",
       "\n",
       "    .dataframe tbody tr th {\n",
       "        vertical-align: top;\n",
       "    }\n",
       "\n",
       "    .dataframe thead th {\n",
       "        text-align: right;\n",
       "    }\n",
       "</style>\n",
       "<table border=\"1\" class=\"dataframe\">\n",
       "  <thead>\n",
       "    <tr style=\"text-align: right;\">\n",
       "      <th></th>\n",
       "      <th>family</th>\n",
       "      <th>count_x</th>\n",
       "      <th>split_x</th>\n",
       "      <th>count_y</th>\n",
       "      <th>split_y</th>\n",
       "    </tr>\n",
       "  </thead>\n",
       "  <tbody>\n",
       "    <tr>\n",
       "      <th>0</th>\n",
       "      <td>4shared</td>\n",
       "      <td>77.0</td>\n",
       "      <td>train</td>\n",
       "      <td>23.0</td>\n",
       "      <td>test</td>\n",
       "    </tr>\n",
       "    <tr>\n",
       "      <th>1</th>\n",
       "      <td>aauto</td>\n",
       "      <td>58.0</td>\n",
       "      <td>train</td>\n",
       "      <td>42.0</td>\n",
       "      <td>test</td>\n",
       "    </tr>\n",
       "    <tr>\n",
       "      <th>2</th>\n",
       "      <td>adaebook</td>\n",
       "      <td>81.0</td>\n",
       "      <td>train</td>\n",
       "      <td>19.0</td>\n",
       "      <td>test</td>\n",
       "    </tr>\n",
       "    <tr>\n",
       "      <th>3</th>\n",
       "      <td>addlyrics</td>\n",
       "      <td>99.0</td>\n",
       "      <td>train</td>\n",
       "      <td>1.0</td>\n",
       "      <td>test</td>\n",
       "    </tr>\n",
       "    <tr>\n",
       "      <th>4</th>\n",
       "      <td>adgazelle</td>\n",
       "      <td>64.0</td>\n",
       "      <td>train</td>\n",
       "      <td>36.0</td>\n",
       "      <td>test</td>\n",
       "    </tr>\n",
       "    <tr>\n",
       "      <th>...</th>\n",
       "      <td>...</td>\n",
       "      <td>...</td>\n",
       "      <td>...</td>\n",
       "      <td>...</td>\n",
       "      <td>...</td>\n",
       "    </tr>\n",
       "    <tr>\n",
       "      <th>593</th>\n",
       "      <td>zurgop</td>\n",
       "      <td>45.0</td>\n",
       "      <td>train</td>\n",
       "      <td>55.0</td>\n",
       "      <td>test</td>\n",
       "    </tr>\n",
       "    <tr>\n",
       "      <th>594</th>\n",
       "      <td>zusy</td>\n",
       "      <td>41.0</td>\n",
       "      <td>train</td>\n",
       "      <td>59.0</td>\n",
       "      <td>test</td>\n",
       "    </tr>\n",
       "    <tr>\n",
       "      <th>595</th>\n",
       "      <td>zvuzona</td>\n",
       "      <td>90.0</td>\n",
       "      <td>train</td>\n",
       "      <td>10.0</td>\n",
       "      <td>test</td>\n",
       "    </tr>\n",
       "    <tr>\n",
       "      <th>596</th>\n",
       "      <td>zygug</td>\n",
       "      <td>60.0</td>\n",
       "      <td>train</td>\n",
       "      <td>40.0</td>\n",
       "      <td>test</td>\n",
       "    </tr>\n",
       "    <tr>\n",
       "      <th>597</th>\n",
       "      <td>zylom</td>\n",
       "      <td>75.0</td>\n",
       "      <td>train</td>\n",
       "      <td>25.0</td>\n",
       "      <td>test</td>\n",
       "    </tr>\n",
       "  </tbody>\n",
       "</table>\n",
       "<p>598 rows × 5 columns</p>\n",
       "</div>"
      ],
      "text/plain": [
       "        family  count_x split_x  count_y split_y\n",
       "0      4shared     77.0   train     23.0    test\n",
       "1        aauto     58.0   train     42.0    test\n",
       "2     adaebook     81.0   train     19.0    test\n",
       "3    addlyrics     99.0   train      1.0    test\n",
       "4    adgazelle     64.0   train     36.0    test\n",
       "..         ...      ...     ...      ...     ...\n",
       "593     zurgop     45.0   train     55.0    test\n",
       "594       zusy     41.0   train     59.0    test\n",
       "595    zvuzona     90.0   train     10.0    test\n",
       "596      zygug     60.0   train     40.0    test\n",
       "597      zylom     75.0   train     25.0    test\n",
       "\n",
       "[598 rows x 5 columns]"
      ]
     },
     "execution_count": 11,
     "metadata": {},
     "output_type": "execute_result"
    }
   ],
   "source": [
    "merge_df.fillna(0, inplace=True)\n",
    "merge_df"
   ]
  },
  {
   "cell_type": "code",
   "execution_count": 12,
   "id": "ec4262b3-2114-439e-a05f-242178ba3836",
   "metadata": {},
   "outputs": [
    {
     "data": {
      "text/plain": [
       "True"
      ]
     },
     "execution_count": 12,
     "metadata": {},
     "output_type": "execute_result"
    }
   ],
   "source": [
    "len(merge_df) == len(malware_dataset.df_malware_family_fsd[\"family\"].unique())"
   ]
  },
  {
   "cell_type": "code",
   "execution_count": null,
   "id": "b49bd9c4-a61d-4dab-bd50-b4e54137eb57",
   "metadata": {},
   "outputs": [],
   "source": []
  },
  {
   "cell_type": "code",
   "execution_count": 19,
   "id": "ad5242ab-983a-4993-886e-f919102c9b52",
   "metadata": {},
   "outputs": [
    {
     "data": {
      "text/plain": [
       "Chi2ContingencyResult(statistic=23257.512563462693, pvalue=0.0, dof=597, expected_freq=array([[62.58862876, 62.58862876, 62.58862876, ..., 62.58862876,\n",
       "        62.58862876, 62.58862876],\n",
       "       [37.41137124, 37.41137124, 37.41137124, ..., 37.41137124,\n",
       "        37.41137124, 37.41137124]]))"
      ]
     },
     "execution_count": 19,
     "metadata": {},
     "output_type": "execute_result"
    }
   ],
   "source": [
    "from scipy.stats import chi2_contingency\n",
    "\n",
    "contingency_table = [list(merge_df[\"count_y\"]),list(merge_df[\"count_x\"]), ]\n",
    "stats = chi2_contingency(contingency_table)\n",
    "\n",
    "stats"
   ]
  },
  {
   "cell_type": "code",
   "execution_count": 17,
   "id": "01ed4e43-5801-437e-b179-9fe6408af269",
   "metadata": {},
   "outputs": [
    {
     "data": {
      "text/plain": [
       "0      77.0\n",
       "1      58.0\n",
       "2      81.0\n",
       "3      99.0\n",
       "4      64.0\n",
       "       ... \n",
       "593    45.0\n",
       "594    41.0\n",
       "595    90.0\n",
       "596    60.0\n",
       "597    75.0\n",
       "Name: count_x, Length: 598, dtype: float64"
      ]
     },
     "execution_count": 17,
     "metadata": {},
     "output_type": "execute_result"
    }
   ],
   "source": [
    "merge_df[\"count_x\"]"
   ]
  },
  {
   "cell_type": "code",
   "execution_count": null,
   "id": "2e1a0fe8-1b3d-4fb2-8c98-94675085dd5c",
   "metadata": {},
   "outputs": [],
   "source": []
  }
 ],
 "metadata": {
  "kernelspec": {
   "display_name": "venv",
   "language": "python",
   "name": "venv"
  },
  "language_info": {
   "codemirror_mode": {
    "name": "ipython",
    "version": 3
   },
   "file_extension": ".py",
   "mimetype": "text/x-python",
   "name": "python",
   "nbconvert_exporter": "python",
   "pygments_lexer": "ipython3",
   "version": "3.10.12"
  }
 },
 "nbformat": 4,
 "nbformat_minor": 5
}
